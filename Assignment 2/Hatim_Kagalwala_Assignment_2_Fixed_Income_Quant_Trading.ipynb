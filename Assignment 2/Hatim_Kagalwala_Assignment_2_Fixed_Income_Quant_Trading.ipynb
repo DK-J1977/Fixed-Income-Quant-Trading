{
 "cells": [
  {
   "cell_type": "code",
   "execution_count": 1,
   "metadata": {
    "collapsed": false
   },
   "outputs": [
    {
     "name": "stdout",
     "output_type": "stream",
     "text": [
      "------The PCA neutral weights are------\n",
      "\n",
      "w1 = [ 1.13693977]\n",
      "w2 = [ 0.54779512]\n"
     ]
    }
   ],
   "source": [
    "import pandas as pd\n",
    "import numpy as np \n",
    "from sklearn.decomposition import PCA\n",
    "import matplotlib.pyplot as plt\n",
    "import math\n",
    "from sklearn import linear_model\n",
    "from sklearn.covariance import ShrunkCovariance \n",
    "import statsmodels.api as sm\n",
    "from statsmodels.tsa.api import VAR \n",
    "import statsmodels.tsa.stattools \n",
    "\n",
    "file = \"CMT-all.xlsx\"\n",
    "\n",
    "#importing the data\n",
    "data = pd.read_excel('CMT-all.xlsx', index_col = 0)\n",
    "\n",
    "#creating sample 1 and sample 2\n",
    "sample1=data.ix['2013-01-01':'2014-12-31',['3M','2Y','5Y','7Y','10Y','30Y']]\n",
    "sample2=data.ix['2015-01-01':'2016-12-31',['3M','2Y','5Y','7Y','10Y','30Y']]\n",
    "\n",
    "#finding the returns for sample 1 and sample 2 \n",
    "sample1_returns= sample1.diff()\n",
    "sample2_returns= sample2.diff()\n",
    "\n",
    "\n",
    "\"\"\"defining all the functions needed for the homework\"\"\"\n",
    "def PCA_Function(sample):\n",
    "    covariance_matrix = np.matrix(sample.cov()) #finding the covariance\n",
    "    eig_val, eig_vect = np.linalg.eigh(covariance_matrix) #gives in ascending order\n",
    "    eig_val=eig_val[::-1] #sort descending\n",
    "    eig_vect=np.fliplr(eig_vect) #sort eigen vectors as per the eigen values \n",
    "    L=np.zeros((covariance_matrix.shape[1],covariance_matrix.shape[1]),np.float64)  \n",
    "    np.fill_diagonal(L,np.sqrt(eig_val))\n",
    "    S= eig_vect*L \n",
    "    return pd.DataFrame(eig_vect)\n",
    "\n",
    "def Weight_Solve(weight,PCAsample):\n",
    "    \"\"\"A function that will solve for the weights when you give the weights in a array format\"\"\"\n",
    "    PCAsample = np.matrix(PCAsample).transpose()\n",
    "    A = np.zeros(PCAsample.shape)\n",
    "    B = np.zeros(PCAsample[1,:].shape)\n",
    "    for i in range(weight.count('w')):\n",
    "        temp=0 \n",
    "        for j in range(len(A[0,:])):\n",
    "            if type(weight[j]) == str:\n",
    "                A[i,j] = PCAsample[i,j]\n",
    "            elif (weight[j]) == 0:\n",
    "                A[i,j] = 0\n",
    "            elif type(weight[j]) == int:\n",
    "                temp=temp+(weight[j])*PCAsample[i,j]\n",
    "                B[0,i]=-1*temp\n",
    "    B=B.transpose()\n",
    "    return np.linalg.lstsq(A,B)[0]\n",
    "\n",
    "def Box_Tiao(sample):\n",
    "    X= np.matrix(sample.cov())\n",
    "    fit_time_series= VAR(sample)\n",
    "    est_val=fit_time_series.fit(maxlags=1) # AR(1) \n",
    "    est_cov= np.matrix(est_val.forecast_cov())\n",
    "    est_cov_var=est_cov.transpose()*est_cov\n",
    "    C=np.linalg.cholesky(X)\n",
    "    Xinv=np.linalg.inv(C)\n",
    "    D= np.transpose(Xinv) * est_cov_var * Xinv\n",
    "    eig_val, eig_vect = np.linalg.eigh(D) #gives in ascending order\n",
    "    eig_val=eig_val[::-1] #sort descending\n",
    "    eig_vect=np.fliplr(eig_vect) #sort eigen vectors as per the eigen values\n",
    "    return eig_val,eig_vect\n",
    "\n",
    "#creating the fly for sample1 and sample2\n",
    "fly_sample1= pd.Series(sample1['2Y'] - sample1['5Y'] + sample1['10Y']) \n",
    "fly_sample2= pd.Series(sample2['2Y'] - sample2['5Y'] + sample2['10Y'])\n",
    "\n",
    "PCA_sample1 = PCA_Function(sample1_returns) #the principal components are along the columns\n",
    "\n",
    "weights = [0, 'w',-1,0,'w',0] #w1 * 2y - 5y + w2 * 10y\n",
    "neutral_weights = Weight_Solve(weights,PCA_sample1)\n",
    "\n",
    "print(\"------The PCA neutral weights are------\\n\")\n",
    "print(\"w1 = \"+str(neutral_weights[1])+\"\\nw2 = \"+str(neutral_weights[4]))"
   ]
  },
  {
   "cell_type": "code",
   "execution_count": 2,
   "metadata": {
    "collapsed": false
   },
   "outputs": [
    {
     "name": "stdout",
     "output_type": "stream",
     "text": [
      "\n",
      "------ADF test for FLY sample 1------\n",
      "\n",
      "(-1.2346415775209645, 0.65851914425371905, 1, 498, {'1%': -3.4435494520411605, '5%': -2.8673612117611267, '10%': -2.5698704830567247}, -2331.1833807906446)\n",
      "\n",
      "------ADF test for PCA FLY sample 1------\n",
      "\n",
      "(-1.7035351930071734, 0.42929196572743877, 1, 498, {'1%': -3.4435494520411605, '5%': -2.8673612117611267, '10%': -2.5698704830567247}, -2760.8044047014723)\n",
      "\n",
      "------ADF test for FLY sample 2------\n",
      "\n",
      "(-1.3396832436200279, 0.61082740350275455, 1, 499, {'1%': -3.4435228622952065, '5%': -2.8673495105661462, '10%': -2.569864247011056}, -1966.4445844806642)\n",
      "\n",
      "------ADF test for PCA FLY sample 2------\n",
      "\n",
      "(-0.98557292534025775, 0.75848980916729025, 1, 499, {'1%': -3.4435228622952065, '5%': -2.8673495105661462, '10%': -2.569864247011056}, -2503.3148168679154)\n"
     ]
    }
   ],
   "source": [
    "#getting the pca neutral portfolio for sample 1 and sample 2\n",
    "PCA_fly1=pd.Series(neutral_weights[1]*sample1['2Y'] - sample1['5Y'] + neutral_weights[4]*sample1['10Y'])\n",
    "PCA_fly2=pd.Series(neutral_weights[1]*sample2['2Y'] - sample2['5Y'] + neutral_weights[4]*sample2['10Y'])\n",
    "\n",
    "#performing the adf test for all the samples\n",
    "\n",
    "ADF_fly_sample1 = statsmodels.tsa.stattools.adfuller(fly_sample1, 1)\n",
    "ADF_PCA_fly1 = statsmodels.tsa.stattools.adfuller(PCA_fly1, 1)\n",
    "ADF_fly_sample2 = statsmodels.tsa.stattools.adfuller(fly_sample2, 1)\n",
    "ADF_PCA_fly2 = statsmodels.tsa.stattools.adfuller(PCA_fly2, 1)\n",
    "\n",
    "\n",
    "print(\"\\n------ADF test for FLY sample 1------\\n\")\n",
    "print(ADF_fly_sample1)\n",
    "print(\"\\n------ADF test for PCA FLY sample 1------\\n\")\n",
    "print(ADF_PCA_fly1)\n",
    "print(\"\\n------ADF test for FLY sample 2------\\n\")\n",
    "print(ADF_fly_sample2)\n",
    "print(\"\\n------ADF test for PCA FLY sample 2------\\n\")\n",
    "print(ADF_PCA_fly2)"
   ]
  },
  {
   "cell_type": "code",
   "execution_count": 3,
   "metadata": {
    "collapsed": false
   },
   "outputs": [
    {
     "name": "stdout",
     "output_type": "stream",
     "text": [
      "\n",
      "-----Summary for Regression-----\n",
      "                             OLS Regression Results                            \n",
      "==============================================================================\n",
      "Dep. Variable:                     5Y   R-squared:                       0.905\n",
      "Model:                            OLS   Adj. R-squared:                  0.904\n",
      "Method:                 Least Squares   F-statistic:                     2363.\n",
      "Date:                Tue, 11 Apr 2017   Prob (F-statistic):          1.40e-254\n",
      "Time:                        15:40:32   Log-Likelihood:                 1451.7\n",
      "No. Observations:                 499   AIC:                            -2899.\n",
      "Df Residuals:                     497   BIC:                            -2891.\n",
      "Df Model:                           2                                         \n",
      "Covariance Type:            nonrobust                                         \n",
      "==============================================================================\n",
      "                 coef    std err          t      P>|t|      [95.0% Conf. Int.]\n",
      "------------------------------------------------------------------------------\n",
      "2Y             0.6219      0.035     17.691      0.000         0.553     0.691\n",
      "10Y            0.7036      0.018     40.154      0.000         0.669     0.738\n",
      "==============================================================================\n",
      "Omnibus:                       12.896   Durbin-Watson:                   2.286\n",
      "Prob(Omnibus):                  0.002   Jarque-Bera (JB):               21.813\n",
      "Skew:                           0.147   Prob(JB):                     1.83e-05\n",
      "Kurtosis:                       3.981   Cond. No.                         2.89\n",
      "==============================================================================\n",
      "\n",
      "Warnings:\n",
      "[1] Standard Errors assume that the covariance matrix of the errors is correctly specified.\n",
      "\n",
      "------Weights for COINT FLY ------\n",
      "  2Y     0.621930\n",
      "10Y    0.703611\n",
      "dtype: float64\n"
     ]
    }
   ],
   "source": [
    "#finding the coint fly using OLS (Best Cointegrated Vector)\n",
    "res= sm.OLS(sample1_returns.ix[1:,'5Y'],sample1_returns.ix[1:,['2Y','10Y']]).fit()\n",
    "print(\"\\n-----Summary for Regression-----\\n\",res.summary())\n",
    "print (\"\\n------Weights for COINT FLY ------\\n \",res.params)"
   ]
  },
  {
   "cell_type": "code",
   "execution_count": 4,
   "metadata": {
    "collapsed": false
   },
   "outputs": [
    {
     "name": "stdout",
     "output_type": "stream",
     "text": [
      "\n",
      "------ADF test for COINT FLY sample 1------\n",
      "\n",
      "(-0.30943568537451671, 0.92415728475935177, 1, 498, {'1%': -3.4435494520411605, '5%': -2.8673612117611267, '10%': -2.5698704830567247}, -2904.060496235817)\n",
      "\n",
      "------ADF test for COINT FLY sample 2------\n",
      "\n",
      "(-1.9841236310005035, 0.29357742476546916, 1, 499, {'1%': -3.4435228622952065, '5%': -2.8673495105661462, '10%': -2.569864247011056}, -2968.4634894800815)\n"
     ]
    }
   ],
   "source": [
    "#COINT FLY portfolio\n",
    "COINT_fly1=pd.Series(res.params.ix[0]*sample1['2Y'] - sample1['5Y'] + res.params.ix[1]*sample1['10Y'])\n",
    "COINT_fly2=pd.Series(res.params.ix[0]*sample2['2Y'] - sample2['5Y'] + res.params.ix[1]*sample2['10Y'])\n",
    "\n",
    "##Performing the ADF test for the COINT FLY \n",
    "ADF_COINT_fly1 = statsmodels.tsa.stattools.adfuller(COINT_fly1, 1)\n",
    "ADF_COINT_fly2 = statsmodels.tsa.stattools.adfuller(COINT_fly2, 1)\n",
    "\n",
    "print(\"\\n------ADF test for COINT FLY sample 1------\\n\")\n",
    "print(ADF_COINT_fly1)\n",
    "print(\"\\n------ADF test for COINT FLY sample 2------\\n\")\n",
    "print(ADF_COINT_fly2)"
   ]
  },
  {
   "cell_type": "code",
   "execution_count": 5,
   "metadata": {
    "collapsed": false
   },
   "outputs": [
    {
     "name": "stdout",
     "output_type": "stream",
     "text": [
      "\n",
      "-----Results from Box Tiao Method-----\n",
      "\n",
      "[[-0.10855543  0.5259525   0.81705832  0.19391968  0.07772336 -0.01896377]\n",
      " [-0.34807028  0.48918596 -0.16220437 -0.68661847 -0.37648382  0.00699468]\n",
      " [-0.30972121  0.11137707 -0.18658524  0.56757172 -0.51400193  0.52011367]\n",
      " [ 0.06410582 -0.50076746  0.45549971 -0.40332309 -0.1596393   0.59117526]\n",
      " [ 0.64073856  0.46984819 -0.21259155 -0.06551788  0.23871405  0.51207872]\n",
      " [-0.59705956  0.01186785 -0.13644135 -0.04301704  0.71102174  0.34257906]]\n"
     ]
    },
    {
     "data": {
      "text/plain": [
       "\" It is observed from ADF Test that the weights obtained by making the \\nweighted FLY for sample 1 PC 1 and PC 2 neutral do not give us stationary\\nseries for the sample 2. This means that we shouldn't use the same weights \\nfor trading on the 2nd sample. We should rebalance our position (Dynamic).\\nWe didn't obtain any mean-reverting nature.\\n\\nThe same applies to the weights obtained from the best cointegrated vector.\""
      ]
     },
     "execution_count": 5,
     "metadata": {},
     "output_type": "execute_result"
    }
   ],
   "source": [
    "BT_vals, BT_vectors = Box_Tiao(sample1)\n",
    "print(\"\\n-----Results from Box Tiao Method-----\\n\")\n",
    "print(BT_vectors)\n",
    "\n",
    "###Summary###\n",
    "\"\"\" It is observed from ADF Test that the weights obtained by making the \n",
    "weighted FLY for sample 1 PC 1 and PC 2 neutral do not give us stationary\n",
    "series for the sample 2. This means that we shouldn't use the same weights \n",
    "for trading on the 2nd sample. We should rebalance our position (Dynamic).\n",
    "We didn't obtain any mean-reverting nature.\n",
    "\n",
    "The same applies to the weights obtained from the best cointegrated vector.\"\"\""
   ]
  },
  {
   "cell_type": "code",
   "execution_count": null,
   "metadata": {
    "collapsed": true
   },
   "outputs": [],
   "source": []
  }
 ],
 "metadata": {
  "kernelspec": {
   "display_name": "Python 3",
   "language": "python",
   "name": "python3"
  },
  "language_info": {
   "codemirror_mode": {
    "name": "ipython",
    "version": 3
   },
   "file_extension": ".py",
   "mimetype": "text/x-python",
   "name": "python",
   "nbconvert_exporter": "python",
   "pygments_lexer": "ipython3",
   "version": "3.6.0"
  }
 },
 "nbformat": 4,
 "nbformat_minor": 2
}
